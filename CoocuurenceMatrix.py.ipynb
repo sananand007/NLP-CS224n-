{
 "cells": [
  {
   "cell_type": "code",
   "execution_count": 39,
   "metadata": {},
   "outputs": [],
   "source": [
    "import numpy as np\n",
    "la =np.linalg\n",
    "corpus= \"the quick brown fox jumped over the quick moon and he was happy with that.\"\n",
    "#corpus= \"i like deep learning i like nlp i enjoy flying.\"\n",
    "class concurrenceMatrix(object):\n",
    "    \"\"\"docstring for concurrenceMatrix.\"\"\"\n",
    "    def __init__(self):\n",
    "        super(concurrenceMatrix, self).__init__()\n",
    "\n",
    "    def breakintoWords(self, corpus):\n",
    "        res = []\n",
    "        temp = corpus.split(\" \")\n",
    "        res = temp[:-1]\n",
    "        temp1 = temp[-1].split(\".\")\n",
    "        res.append(temp1[0])\n",
    "        res.append(temp[-1][-1])\n",
    "        return res\n",
    "\n",
    "    def ngram(self, words, type):\n",
    "        listofngrams = list(zip(*[words[i:] for i in range(type)]))\n",
    "        return listofngrams\n",
    "\n",
    "    def arrayed(self,words,uniquewords):\n",
    "        #Form a N*N array , which represent bigrams only for now\n",
    "        #initialize\n",
    "        N = len(uniquewords)\n",
    "        X = np.zeros(shape=(N,N))\n",
    "        listofngrams = self.ngram(words, 2)\n",
    "        mapwordtoindex = {}\n",
    "        for i in range(0,len(uniquewords)):\n",
    "            mapwordtoindex[uniquewords[i]] = i\n",
    "        for idx, word in enumerate(uniquewords):\n",
    "            for idx2,gram in enumerate(listofngrams):\n",
    "                if word==gram[0]:\n",
    "                    idxnew = mapwordtoindex[gram[1]]\n",
    "                    X[idx][idxnew]+=1\n",
    "                    X[idxnew][idx]=X[idx][idxnew]\n",
    "        return X\n"
   ]
  },
  {
   "cell_type": "code",
   "execution_count": 40,
   "metadata": {},
   "outputs": [
    {
     "name": "stdout",
     "output_type": "stream",
     "text": [
      "['the', 'quick', 'brown', 'fox', 'jumped', 'over', 'moon', 'and', 'he', 'was', 'happy', 'with', 'that', '.']\n",
      "[[ 0.  2.  0.  0.  0.  1.  0.  0.  0.  0.  0.  0.  0.  0.]\n",
      " [ 2.  0.  1.  0.  0.  0.  1.  0.  0.  0.  0.  0.  0.  0.]\n",
      " [ 0.  1.  0.  1.  0.  0.  0.  0.  0.  0.  0.  0.  0.  0.]\n",
      " [ 0.  0.  1.  0.  1.  0.  0.  0.  0.  0.  0.  0.  0.  0.]\n",
      " [ 0.  0.  0.  1.  0.  1.  0.  0.  0.  0.  0.  0.  0.  0.]\n",
      " [ 1.  0.  0.  0.  1.  0.  0.  0.  0.  0.  0.  0.  0.  0.]\n",
      " [ 0.  1.  0.  0.  0.  0.  0.  1.  0.  0.  0.  0.  0.  0.]\n",
      " [ 0.  0.  0.  0.  0.  0.  1.  0.  1.  0.  0.  0.  0.  0.]\n",
      " [ 0.  0.  0.  0.  0.  0.  0.  1.  0.  1.  0.  0.  0.  0.]\n",
      " [ 0.  0.  0.  0.  0.  0.  0.  0.  1.  0.  1.  0.  0.  0.]\n",
      " [ 0.  0.  0.  0.  0.  0.  0.  0.  0.  1.  0.  1.  0.  0.]\n",
      " [ 0.  0.  0.  0.  0.  0.  0.  0.  0.  0.  1.  0.  1.  0.]\n",
      " [ 0.  0.  0.  0.  0.  0.  0.  0.  0.  0.  0.  1.  0.  1.]\n",
      " [ 0.  0.  0.  0.  0.  0.  0.  0.  0.  0.  0.  0.  1.  0.]]\n"
     ]
    }
   ],
   "source": [
    "obj = concurrenceMatrix()\n",
    "words = obj.breakintoWords(corpus)\n",
    "uniquewords = []\n",
    "for word in words:\n",
    "    if word not in uniquewords:\n",
    "        uniquewords.append(word)\n",
    "print(uniquewords)\n",
    "X = np.asarray(obj.arrayed(words,uniquewords))\n",
    "print(X)\n"
   ]
  },
  {
   "cell_type": "code",
   "execution_count": 41,
   "metadata": {},
   "outputs": [],
   "source": [
    "U, S, Vh = la.svd(X, full_matrices=False)\n",
    "from sklearn.decomposition import PCA\n",
    "pca = PCA(n_components=2)\n",
    "val = pca.fit_transform(U)"
   ]
  },
  {
   "cell_type": "code",
   "execution_count": 45,
   "metadata": {},
   "outputs": [],
   "source": [
    "import matplotlib.pyplot as plt\n",
    "plt.figure()\n",
    "for i in range(len(uniquewords)):\n",
    "    plt.text(val[i,0], val[i,1], uniquewords[i])"
   ]
  },
  {
   "cell_type": "code",
   "execution_count": 46,
   "metadata": {},
   "outputs": [
    {
     "data": {
      "text/plain": [
       "<matplotlib.figure.Figure at 0xc24fcf8>"
      ]
     },
     "metadata": {},
     "output_type": "display_data"
    },
    {
     "data": {
      "image/png": "[encoded data removed]",
      "text/plain": [
       "<matplotlib.figure.Figure at 0xc530e80>"
      ]
     },
     "metadata": {},
     "output_type": "display_data"
    }
   ],
   "source": [
    "plt.show()"
   ]
  },
  {
   "cell_type": "code",
   "execution_count": null,
   "metadata": {},
   "outputs": [],
   "source": []
  }
 ],
 "metadata": {
  "kernelspec": {
   "display_name": "Python 2",
   "language": "python",
   "name": "python2"
  },
  "language_info": {
   "codemirror_mode": {
    "name": "ipython",
    "version": 2
   },
   "file_extension": ".py",
   "mimetype": "text/x-python",
   "name": "python",
   "nbconvert_exporter": "python",
   "pygments_lexer": "ipython2",
   "version": "2.7.13"
  }
 },
 "nbformat": 4,
 "nbformat_minor": 2
}
